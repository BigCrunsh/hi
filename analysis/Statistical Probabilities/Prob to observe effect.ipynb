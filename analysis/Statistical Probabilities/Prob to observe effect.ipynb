{
 "cells": [
  {
   "cell_type": "code",
   "execution_count": 2,
   "id": "e185c3b2-7ae5-456a-88a5-6b22772d8fb8",
   "metadata": {},
   "outputs": [],
   "source": [
    "from scipy.stats import binom, binom_test"
   ]
  },
  {
   "cell_type": "raw",
   "id": "42ce286d-1f16-4487-af5c-bc9eded9cca3",
   "metadata": {},
   "source": [
    "Suppose you have a phenomenon effecting your population with a specific proportion, e.g., 1:2, 1:10, 1:10000, ... 1:n. Let's say we want to know how many samples we need to observe to have a chance to observe that phenomenon at least once. As a demonstrating example, you can think of how many people you need to vaccinate before you see a potential specific byeffect with 1:n propability of occururance. \n",
    "\n",
    "Naivly speaking you may say n. However, if you draw n times with replacement with a probability of 1:n, the propbability of observing the event once is\n",
    "lim (1-(1-1/n)^n = 1-1/e, which is about 63%. So how often do you have to draw to see the event at least once with 95% confidence. Turns out approximately 3*n."
   ]
  },
  {
   "cell_type": "code",
   "execution_count": 13,
   "id": "75c4f494-6f00-4b7a-b897-83a9cc555f30",
   "metadata": {},
   "outputs": [
    {
     "data": {
      "text/plain": [
       "0.950220399630148"
      ]
     },
     "execution_count": 13,
     "metadata": {},
     "output_type": "execute_result"
    }
   ],
   "source": [
    "binom_test(x=1, n=30000, p=1/10000, alternative='greater')"
   ]
  },
  {
   "cell_type": "code",
   "execution_count": null,
   "id": "4464503b-bbf7-4ff3-965e-3a65fdde1787",
   "metadata": {},
   "outputs": [],
   "source": [
    "10: 30\n",
    "100: 300"
   ]
  }
 ],
 "metadata": {
  "kernelspec": {
   "display_name": "Python 3 (ipykernel)",
   "language": "python",
   "name": "python3"
  },
  "language_info": {
   "codemirror_mode": {
    "name": "ipython",
    "version": 3
   },
   "file_extension": ".py",
   "mimetype": "text/x-python",
   "name": "python",
   "nbconvert_exporter": "python",
   "pygments_lexer": "ipython3",
   "version": "3.9.4"
  }
 },
 "nbformat": 4,
 "nbformat_minor": 5
}
