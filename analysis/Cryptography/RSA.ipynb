{
 "cells": [
  {
   "cell_type": "markdown",
   "id": "0fe67eca-e332-4692-b866-9f47466d7a13",
   "metadata": {},
   "source": [
    "RSA\n",
    "\n",
    "https://en.wikipedia.org/wiki/RSA_%28cryptosystem%29#Example"
   ]
  },
  {
   "cell_type": "markdown",
   "id": "e9b5df30-afc8-4628-b445-d7f3157c3c43",
   "metadata": {},
   "source": [
    "choose to prime numbers"
   ]
  },
  {
   "cell_type": "code",
   "execution_count": 49,
   "id": "387da4cf-4487-4783-9a66-f1de91f89afc",
   "metadata": {},
   "outputs": [],
   "source": [
    "#p, q = 7, 11\n",
    "#p, q = 53, 61\n",
    "p, q = 7907, 7919"
   ]
  },
  {
   "cell_type": "code",
   "execution_count": 50,
   "id": "b740bbf9-0d15-46fc-a307-d9b7b2a21f0c",
   "metadata": {},
   "outputs": [
    {
     "name": "stdout",
     "output_type": "stream",
     "text": [
      "62615533\n"
     ]
    }
   ],
   "source": [
    "#Berechne\n",
    "n = p*q\n",
    "phi_n = (p-1) * (q-1) # eulerscher Funktion: Anzahl aller Zahlen von 1-n, die teilerfremd (coprime) zu n sind (ggt(x, n) =1)\n",
    "\n",
    "print(n)"
   ]
  },
  {
   "cell_type": "code",
   "execution_count": 51,
   "id": "d56eba30-fdbe-4a3d-ab0f-5213659a3562",
   "metadata": {},
   "outputs": [],
   "source": [
    "# Satz von Euler: for all k,m with m<n it holds\n",
    "# m^{k phi(n)+1}=m (mod n)"
   ]
  },
  {
   "cell_type": "code",
   "execution_count": 52,
   "id": "fd7340e8-485e-4092-a6d3-56eb32bee555",
   "metadata": {},
   "outputs": [
    {
     "name": "stdout",
     "output_type": "stream",
     "text": [
      "3\n"
     ]
    }
   ],
   "source": [
    "def euclid(x, y):\n",
    "    if y>x:\n",
    "        x,y = y,x\n",
    "    if y==0:\n",
    "        return x\n",
    "    return euclid(x%y, y)\n",
    "\n",
    "# Berechne first key: e with ggt(e, phi(n))=1 ==> inverse exist\n",
    "for e in range(2, phi_n):\n",
    "    if euclid(e, phi_n)==1:\n",
    "        break\n",
    "        \n",
    "print(e)"
   ]
  },
  {
   "cell_type": "code",
   "execution_count": 53,
   "id": "5574e414-5001-4f26-825d-4ac3af63dbf5",
   "metadata": {},
   "outputs": [
    {
     "name": "stdout",
     "output_type": "stream",
     "text": [
      "41733139\n"
     ]
    }
   ],
   "source": [
    "# Berechne second key: d, with e*d = 1 mod n\n",
    "# euklidsche algo: bestimme d mit e*d=1 (mod phi(n))\n",
    "\n",
    "# https://cp-algorithms.com/algebra/extended-euclid-algorithm.html\n",
    "def extended_euclid(a, b):\n",
    "    if b>a:\n",
    "        m, n, r = extended_euclid(b, a)\n",
    "        return (n, m, r)\n",
    "    if b==0:\n",
    "        return (1, 0, a)\n",
    "    m, n, r = extended_euclid(b, a%b)\n",
    "    return n, m - n * (a//b), r\n",
    "    \n",
    "_, d, r = extended_euclid(phi_n, e)\n",
    "assert r == 1, \"d is not coprime to phi(n)\"\n",
    "d = d % phi_n\n",
    "print(d)\n",
    "\n",
    "# debug\n",
    "#for i in range(60):\n",
    "#    print(f'7*{i}%60={7*i%60}')"
   ]
  },
  {
   "cell_type": "code",
   "execution_count": 79,
   "id": "fc92d904-04e6-42a5-b11b-5187d4c5bbce",
   "metadata": {},
   "outputs": [],
   "source": [
    "def fast_exp(base, exp, mod):\n",
    "    if exp == 0:\n",
    "        return 1\n",
    "    if exp == 1:\n",
    "        return base\n",
    "    if exp & 1:\n",
    "        return base * fast_exp(base ** 2 % mod, exp>>1, mod) % mod\n",
    "    return fast_exp(base ** 2 % mod, exp>>1, mod) % mod\n",
    "\n",
    "def encrpt(msg, public_key=e, n=n):\n",
    "    return fast_exp(msg, public_key, n)\n",
    "\n",
    "def decrypt(code, private_key=d, n=n):\n",
    "    return fast_exp(code, private_key, n)"
   ]
  },
  {
   "cell_type": "code",
   "execution_count": 80,
   "id": "05c2d49c-4985-47ad-be0d-958cd4509a9d",
   "metadata": {},
   "outputs": [
    {
     "name": "stdout",
     "output_type": "stream",
     "text": [
      "encrypt(53)=148877\n",
      "decrypt(148877)=53\n"
     ]
    }
   ],
   "source": [
    "msg = 53\n",
    "assert msg < n, f'message must be shorter than n={n}'\n",
    "code = encrpt(msg)\n",
    "print(f'encrypt({msg})={code}')\n",
    "\n",
    "msg2 = decrypt(code)\n",
    "print(f'decrypt({code})={msg2}')"
   ]
  },
  {
   "cell_type": "code",
   "execution_count": 81,
   "id": "a26b47b2-e1fd-4340-be97-b54760e049b5",
   "metadata": {},
   "outputs": [],
   "source": [
    "# Encode Strings to Int"
   ]
  },
  {
   "cell_type": "code",
   "execution_count": 82,
   "id": "5511dbc0-43d5-412c-bdb9-b85d512cdb5f",
   "metadata": {},
   "outputs": [
    {
     "name": "stdout",
     "output_type": "stream",
     "text": [
      "hallo\n",
      "104097108108111\n",
      "hallo\n"
     ]
    }
   ],
   "source": [
    "import numpy as np\n",
    "\n",
    "def str2int(m, char_encoding_digits=3):\n",
    "    return sum([\n",
    "        ord(c)*10**(char_encoding_digits*(len(m)-i-1))\n",
    "        for i, c in enumerate(m)\n",
    "    ])\n",
    "\n",
    "def int2str(c, char_encoding_digits=3):\n",
    "    n_blocks = int(np.ceil(np.log10(c))/char_encoding_digits)\n",
    "    return ''.join([\n",
    "        chr((c//10**(char_encoding_digits * (n_blocks-i-1)))% 10**char_encoding_digits)\n",
    "        for i in range(n_blocks)\n",
    "    ])\n",
    "\n",
    "m = 'hallo'\n",
    "m_e = str2int(m)\n",
    "m_d = int2str(m_e)\n",
    "\n",
    "print(m)\n",
    "print(m_e)\n",
    "print(m_d)"
   ]
  },
  {
   "cell_type": "code",
   "execution_count": 84,
   "id": "4c5698fe-36d0-4f51-a89e-d468ba5d32aa",
   "metadata": {},
   "outputs": [
    {
     "name": "stdout",
     "output_type": "stream",
     "text": [
      "str2int(\"ok\")=111107\n",
      "encrypt(111107)=48231358\n",
      "decrypt(48231358)=111107\n",
      "int2str(\"111107\")=ok\n"
     ]
    },
    {
     "data": {
      "text/plain": [
       "'ok'"
      ]
     },
     "execution_count": 84,
     "metadata": {},
     "output_type": "execute_result"
    }
   ],
   "source": [
    "m = 'ok'\n",
    "msg = str2int(m)\n",
    "assert msg < n, f'message {msg} must be shorter than n={n}'\n",
    "print(f'str2int(\"{m}\")={msg}')\n",
    "\n",
    "code = encrpt(msg)\n",
    "print(f'encrypt({msg})={code}')\n",
    "\n",
    "msg2 = decrypt(code)\n",
    "print(f'decrypt({code})={msg2}')\n",
    "m2 = int2str(msg2)\n",
    "print(f'int2str(\"{msg2}\")={m2}')\n",
    "\n",
    "int2str(decrypt(encrpt(str2int(m))))"
   ]
  },
  {
   "cell_type": "code",
   "execution_count": null,
   "id": "7a2525f9-f658-4257-b6b2-12d4a1c287b8",
   "metadata": {},
   "outputs": [],
   "source": []
  }
 ],
 "metadata": {
  "kernelspec": {
   "display_name": "Python 3 (ipykernel)",
   "language": "python",
   "name": "python3"
  },
  "language_info": {
   "codemirror_mode": {
    "name": "ipython",
    "version": 3
   },
   "file_extension": ".py",
   "mimetype": "text/x-python",
   "name": "python",
   "nbconvert_exporter": "python",
   "pygments_lexer": "ipython3",
   "version": "3.9.4"
  }
 },
 "nbformat": 4,
 "nbformat_minor": 5
}
